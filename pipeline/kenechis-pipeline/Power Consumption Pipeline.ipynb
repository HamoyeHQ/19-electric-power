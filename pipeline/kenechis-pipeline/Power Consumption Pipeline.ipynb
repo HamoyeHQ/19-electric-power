{
 "cells": [
  {
   "cell_type": "code",
   "execution_count": null,
   "metadata": {},
   "outputs": [],
   "source": [
    "#!python -m pip install --user --upgrade pip\n",
    "#!pip3 install pandas==0.23.4 matplotlib==3.0.3 scipy==1.2.1 scikit-learn==0.22 tensorflow==2.3 keras==2.4.3 --user"
   ]
  },
  {
   "cell_type": "code",
   "execution_count": null,
   "metadata": {},
   "outputs": [],
   "source": [
    "#!pip3 install kfp --upgrade --user"
   ]
  },
  {
   "cell_type": "code",
   "execution_count": 1,
   "metadata": {},
   "outputs": [],
   "source": [
    "# import libraries for pipeline\n",
    "import kfp\n",
    "import kfp.dsl as dsl\n",
    "import kfp.components as comp"
   ]
  },
  {
   "cell_type": "code",
   "execution_count": 2,
   "metadata": {},
   "outputs": [],
   "source": [
    "# create  directory for outputs.\n",
    "output_dir = \"/home/jovyan/data/\""
   ]
  },
  {
   "cell_type": "code",
   "execution_count": 8,
   "metadata": {},
   "outputs": [],
   "source": [
    "def data_download(store_path):\n",
    "    \n",
    "    import pickle\n",
    "    import sys, subprocess\n",
    "    subprocess.run([sys.executable, \"-m\", \"pip\", \"install\", \"pandas\"])\n",
    "    import pandas as pd\n",
    "    \n",
    "    \n",
    "    data_path = \"http://archive.ics.uci.edu/ml/machine-learning-databases/00235/household_power_consumption.zip\"\n",
    "    \n",
    "    subprocess.run([\"wget\", \"-O\", \"household_power_consumption.zip\", data_path ])\n",
    "    subprocess.run([\"unzip\", \"household_power_consumption.zip\"])\n",
    "    subprocess.run([\"unzip\", \"*.zip\"])\n",
    "    \n",
    "    print(' Unzipping Done! ')\n",
    "    \n",
    "    subprocess.call([\"rm\", \"-r\", \"*.zip\"])\n",
    "    data = pd.read_csv('household_power_consumption.txt',sep=';',parse_dates={'date_time' : ['Date', 'Time']}, infer_datetime_format=True,na_values=['nan','?'])\n",
    "    \n",
    "    with open(f'{store_path}/downloaded_data','wb') as f:\n",
    "        \n",
    "        pickle.dump((data),f)\n",
    "    print(' Complete')"
   ]
  },
  {
   "cell_type": "code",
   "execution_count": 9,
   "metadata": {},
   "outputs": [
    {
     "name": "stdout",
     "output_type": "stream",
     "text": [
      " Unzipping Done! \n",
      " Complete\n"
     ]
    }
   ],
   "source": [
    "data_download(output_dir)"
   ]
  },
  {
   "cell_type": "code",
   "execution_count": 15,
   "metadata": {},
   "outputs": [],
   "source": [
    "def data_preprocessing(store_path):\n",
    "    \n",
    "    import pickle\n",
    "    import sys, subprocess\n",
    "    subprocess.run([sys.executable, \"-m\", \"pip\", \"install\", \"pandas\"])\n",
    "    import pandas as pd\n",
    "    \n",
    "    \n",
    "    with open(f\"{store_path}/downloaded_data\", \"rb\") as f:\n",
    "        data = pickle.load(f)\n",
    "        \n",
    "    # making sure duplicates are zero.\n",
    "        \n",
    "    assert data.duplicated().sum() == 0,\"There are duplicates\"\n",
    "    \n",
    "    # replace null values\n",
    "    for i in range(1,8):\n",
    "        data.iloc[:,i]=data.iloc[:,i].fillna(data.iloc[:,i].value_counts().index[0])\n",
    "        \n",
    "    # making sure the null values are completely taken care of.    \n",
    "    assert data['date_time'].isnull().sum() == 0, \" Date time has null values\"\n",
    "    assert data['Global_active_power'].isnull().sum() == 0, \" Global active power has null values\"\n",
    "    assert data['Global_reactive_power'].isnull().sum() == 0, \" Global reactive power has null values\"\n",
    "    assert data['Global_intensity'].isnull().sum() == 0, \" Global intensity null values\"\n",
    "    assert data['Sub_metering_1'].isnull().sum() == 0, \" sub meter 1 has null values\"\n",
    "    assert data['Sub_metering_2'].isnull().sum() == 0, \" sub meter 2 has null values\"\n",
    "    assert data['Sub_metering_3'].isnull().sum() == 0, \" sub meter 3 has null values\"\n",
    "   \n",
    "    # store clean data\n",
    "    with open(f'{store_path}/clean_data','wb') as f:\n",
    "        \n",
    "        pickle.dump((data),f)\n",
    "    \n",
    "    print('Done!')\n",
    "    "
   ]
  },
  {
   "cell_type": "code",
   "execution_count": 16,
   "metadata": {},
   "outputs": [
    {
     "name": "stdout",
     "output_type": "stream",
     "text": [
      "Done!\n"
     ]
    }
   ],
   "source": [
    "data_preprocessing(output_dir)"
   ]
  },
  {
   "cell_type": "code",
   "execution_count": 24,
   "metadata": {},
   "outputs": [],
   "source": [
    "def forecasting(store_path):\n",
    "    import pickle\n",
    "    import sys, subprocess;\n",
    "    subprocess.run([sys.executable, \"-m\", \"pip\", \"install\", \"pandas\"])\n",
    "    subprocess.run([sys.executable, \"-m\", \"pip\", \"install\", \"numpy\"])\n",
    "    subprocess.run([sys.executable, '-m', 'pip', 'install','scikit-learn==0.23.1'])\n",
    "    subprocess.run([sys.executable, \"-m\", \"pip\", \"install\", \"tensorflow==2.3\", \"keras==2.4.3\"])\n",
    "    \n",
    "    import pandas as pd\n",
    "    import numpy as np\n",
    "    \n",
    "    with open(f\"{store_path}/clean_data\", \"rb\") as f:\n",
    "        data = pickle.load(f)\n",
    "        \n",
    "    data = data[['date_time','Global_active_power','Global_reactive_power', 'Voltage']]\n",
    "    data = data.set_index('date_time')\n",
    "    \n",
    "    # split data\n",
    "    train = data[:2075000]\n",
    "    test = data[2075000:]\n",
    "    \n",
    "    #normalize data\n",
    "    from sklearn.preprocessing import MinMaxScaler\n",
    "    sc =MinMaxScaler(feature_range = (0,1))\n",
    "    scaled_data = sc.fit_transform(train)\n",
    "    \n",
    "    \n",
    "    top = len(scaled_data)\n",
    "    time_steps = 30\n",
    "    \n",
    "    # creating the time steps\n",
    "    x_train = []\n",
    "    y_train = []\n",
    "\n",
    "    for i in range(time_steps, top):\n",
    "        x_train.append(scaled_data[i-time_steps:i, :])  \n",
    "        y_train.append(scaled_data[i,:])\n",
    "        \n",
    "    x_train, y_train = np.array(x_train), np.array(y_train)\n",
    "    \n",
    "    # reshaping the data\n",
    "    x_train = np.reshape(x_train,(x_train.shape[0], x_train.shape[1], 3))\n",
    "    \n",
    "    # building the model\n",
    "    \n",
    "    from keras.models import Sequential\n",
    "    from keras.layers import Dense\n",
    "    from keras.layers import LSTM\n",
    "    from keras.layers import Dropout\n",
    "    \n",
    "    \n",
    "    trend_detector = Sequential()\n",
    "    \n",
    "    trend_detector.add(LSTM(units = 30, return_sequences = True, input_shape = (x_train.shape[1], 3)))\n",
    "    trend_detector.add(Dropout(0.3))\n",
    "    trend_detector.add(LSTM(units = 30, return_sequences =True))\n",
    "    trend_detector.add(Dropout(0.3))\n",
    "    trend_detector.add(LSTM(units = 30))\n",
    "    trend_detector.add(Dropout(0.3))\n",
    "    trend_detector.add(Dense(units=3))\n",
    "    trend_detector.compile(optimizer = 'RMSprop', loss = 'mean_squared_error', metrics = ['accuracy'])\n",
    "    \n",
    "    #fitting the model\n",
    "    trend_detector.fit(x_train, y_train, epochs = 1, batch_size = 10)\n",
    "    # I used one epoch because of time, i.e how long it takes the model to run\n",
    "    \n",
    "    # predictions and analysis\n",
    "    total = pd.concat((train, test), axis = 0)\n",
    "\n",
    "    new_data = total[len(total) - len(test) - time_steps :]\n",
    "    new_data = sc.transform(new_data)\n",
    "    test_count = len(test)\n",
    "    val = time_steps + test_count\n",
    "\n",
    "\n",
    "    x_test = []\n",
    "    for i in range(time_steps, val): \n",
    "        x_test.append(new_data[i - time_steps: i, : ])\n",
    "\n",
    "    x_test= np.array(x_test)\n",
    "    x_test = np.reshape(x_test,(x_test.shape[0], x_test.shape[1], 3))\n",
    "\n",
    "    predicted_values_calc = trend_detector.predict(x_test)\n",
    "    predicted_values = sc.inverse_transform(predicted_values_calc)\n",
    "\n",
    "    pred_df = pd.DataFrame(predicted_values, columns= data.columns)\n",
    "\n",
    "\n",
    "    assert len(test) == len(pred_df), \" length of actaul values is not the the same with predicted values.\"\n",
    "\n",
    "    hold = test.index.values\n",
    "    pred_df['date_time'] = hold\n",
    "    pred_df = pred_df.set_index('date_time')\n",
    "\n",
    "    print('Predicted ... ')\n",
    "    pred_df.head()\n",
    "\n",
    "    print('Actual ...')\n",
    "    test.head()\n",
    "    \n",
    "    # write predictions to results.txt\n",
    "    with open(f'{store_path}/results.txt','w') as result:\n",
    "        result.write(f'Prediciton: {pred_df} | Actual {x_test}')\n",
    "    \n",
    "    print('Forecasting Complete ...')\n"
   ]
  },
  {
   "cell_type": "code",
   "execution_count": 25,
   "metadata": {},
   "outputs": [
    {
     "name": "stdout",
     "output_type": "stream",
     "text": [
      "207497/207497 [==============================] - 7745s 37ms/step - loss: 0.0011 - accuracy: 0.9885\n",
      "Predicted ... \n",
      "Actual ...\n",
      "Forecasting Complete ...\n"
     ]
    }
   ],
   "source": [
    "forecasting(output_dir)"
   ]
  },
  {
   "cell_type": "markdown",
   "metadata": {},
   "source": [
    "### Components"
   ]
  },
  {
   "cell_type": "code",
   "execution_count": 26,
   "metadata": {},
   "outputs": [],
   "source": [
    "import kfp\n",
    "from kfp import dsl\n",
    "import kfp.components as comp"
   ]
  },
  {
   "cell_type": "code",
   "execution_count": 27,
   "metadata": {},
   "outputs": [],
   "source": [
    "!which dsl-compile"
   ]
  },
  {
   "cell_type": "code",
   "execution_count": 28,
   "metadata": {},
   "outputs": [],
   "source": [
    "data_download_op = comp.func_to_container_op(data_download, base_image= \"python:3.7\")\n",
    "data_preprocessing_op = comp.func_to_container_op(data_preprocessing, base_image= \"python:3.7\")\n",
    "forecasting_op = comp.func_to_container_op(forecasting, base_image=\"tensorflow/tensorflow:latest-gpu-py3\")"
   ]
  },
  {
   "cell_type": "code",
   "execution_count": null,
   "metadata": {},
   "outputs": [],
   "source": []
  },
  {
   "cell_type": "markdown",
   "metadata": {},
   "source": [
    "### Pipeline"
   ]
  },
  {
   "cell_type": "code",
   "execution_count": 29,
   "metadata": {},
   "outputs": [],
   "source": [
    "# create client that would enable communication with the Pipelines API server \n",
    "client = kfp.Client()"
   ]
  },
  {
   "cell_type": "code",
   "execution_count": 32,
   "metadata": {},
   "outputs": [],
   "source": [
    "@dsl.pipeline(name =\"Electric Power Consumption\",\n",
    "        description = \"Electric Power Consumption Forecasting Pipeline\")\n",
    "\n",
    "def electric_power_consumption(store_path:str):\n",
    "    \n",
    "    volume_op = dsl.VolumeOp(\n",
    "        name=\"data_volume\",\n",
    "        resource_name=\"data-volume\",\n",
    "        size=\"1Gi\",\n",
    "        modes=dsl.VOLUME_MODE_RWO)\n",
    "    \n",
    "    # Create data download components.\n",
    "    data_download_container = data_download_op(store_path).add_pvolumes({store_path:volume_op.volume})\n",
    "\n",
    "    # Create data preprocessing component.\n",
    "    data_preprocessing_container = data_preprocessing_op(store_path).add_pvolumes({store_path: data_download_container.pvolume})\n",
    "        \n",
    "    # Create Forecasting Component.\n",
    "    forecasting_conatiner = forecasting_op(store_path)\\\n",
    "                                        .add_pvolumes({store_path:data_preprocessing_container.pvolume})"
   ]
  },
  {
   "cell_type": "code",
   "execution_count": 35,
   "metadata": {},
   "outputs": [
    {
     "data": {
      "text/html": [
       "<a href=\"/pipeline/#/experiments/details/d6ce32d4-a66b-490e-8f43-01b91dc0f12d\" target=\"_blank\" >Experiment details</a>."
      ],
      "text/plain": [
       "<IPython.core.display.HTML object>"
      ]
     },
     "metadata": {},
     "output_type": "display_data"
    },
    {
     "data": {
      "text/html": [
       "<a href=\"/pipeline/#/runs/details/ceb6dac6-7666-4f62-9a3b-777ba1177e11\" target=\"_blank\" >Run details</a>."
      ],
      "text/plain": [
       "<IPython.core.display.HTML object>"
      ]
     },
     "metadata": {},
     "output_type": "display_data"
    }
   ],
   "source": [
    "#DATA_PATH =\"/home/jovyan/data/\"\n",
    "#DATA_PATH = \"/mnt\"\n",
    "STORE_PATH  = \"/mnt\"\n",
    "\n",
    "\n",
    "\n",
    "pipeline_func = electric_power_consumption\n",
    "\n",
    "experiment_name = 'electric_power_consumption_kubeflow'\n",
    "run_name = pipeline_func.__name__ + ' run'\n",
    "\n",
    "arguments = {\"store_path\":STORE_PATH}\n",
    "\n",
    "# Compile pipeline to generate compressed YAML definition of the pipeline.\n",
    "kfp.compiler.Compiler().compile(pipeline_func,  \n",
    "  '{}.zip'.format(experiment_name))\n",
    "\n",
    "# Submit pipeline directly from pipeline function\n",
    "run_result = client.create_run_from_pipeline_func(pipeline_func, \n",
    "                                                  experiment_name=experiment_name, \n",
    "                                                  run_name=run_name, \n",
    "                                                  arguments=arguments)"
   ]
  },
  {
   "cell_type": "code",
   "execution_count": null,
   "metadata": {},
   "outputs": [],
   "source": []
  }
 ],
 "metadata": {
  "kernelspec": {
   "display_name": "Python 3",
   "language": "python",
   "name": "python3"
  },
  "language_info": {
   "codemirror_mode": {
    "name": "ipython",
    "version": 3
   },
   "file_extension": ".py",
   "mimetype": "text/x-python",
   "name": "python",
   "nbconvert_exporter": "python",
   "pygments_lexer": "ipython3",
   "version": "3.6.9"
  }
 },
 "nbformat": 4,
 "nbformat_minor": 4
}
